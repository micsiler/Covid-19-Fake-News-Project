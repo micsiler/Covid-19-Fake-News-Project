{
  "nbformat": 4,
  "nbformat_minor": 0,
  "metadata": {
    "colab": {
      "name": "Covid19FakeNews.ipynb",
      "provenance": [],
      "collapsed_sections": [],
      "include_colab_link": true
    },
    "kernelspec": {
      "name": "python3",
      "display_name": "Python 3"
    },
    "language_info": {
      "name": "python"
    }
  },
  "cells": [
    {
      "cell_type": "markdown",
      "metadata": {
        "id": "view-in-github",
        "colab_type": "text"
      },
      "source": [
        "<a href=\"https://colab.research.google.com/github/micsiler/Covid-19-Fake-News-Project/blob/main/Covid19FakeNews.ipynb\" target=\"_parent\"><img src=\"https://colab.research.google.com/assets/colab-badge.svg\" alt=\"Open In Colab\"/></a>"
      ]
    },
    {
      "cell_type": "markdown",
      "metadata": {
        "id": "LkXkBvkevI-t"
      },
      "source": [
        "#Covid-19 Fake New Detector (B365 Project)\n",
        "Authors: Michael Siler, Wen Cheng, Bowen (Kevin) Shen, Arjun Varadhan, Julianne Sendon\n",
        "\n",
        "Data Set Provided By: https://data.mendeley.com/datasets/zwfdmp5syg/1/files/3063167e-1d3b-4604-a630-16016a84e8db\n",
        "\n",
        "Presentation: https://docs.google.com/presentation/d/1C77iplRyZ_nKjfDDCcN7TIeSMlH6VLIMH-Noy4Cw7K4/edit?usp=sharing\n",
        "\n",
        "Description: This is a project for B365 (Data Analysis and Mining). This is an analysis of multiple methods of classification on fake covid-19 news datasets. \n"
      ]
    },
    {
      "cell_type": "code",
      "metadata": {
        "id": "eMW-JzFxblQH"
      },
      "source": [
        "import pandas as pd\n",
        "import numpy as np\n",
        "import seaborn as sns\n",
        "import matplotlib.pyplot as plt\n",
        "from sklearn.model_selection import train_test_split\n",
        "from sklearn.metrics import accuracy_score\n",
        "from sklearn.metrics import classification_report\n",
        "\n",
        "import os"
      ],
      "execution_count": null,
      "outputs": []
    },
    {
      "cell_type": "code",
      "metadata": {
        "colab": {
          "resources": {
            "http://localhost:8080/nbextensions/google.colab/files.js": {
              "data": "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",
              "ok": true,
              "headers": [
                [
                  "content-type",
                  "application/javascript"
                ]
              ],
              "status": 200,
              "status_text": ""
            }
          },
          "base_uri": "https://localhost:8080/",
          "height": 474
        },
        "id": "NnJF7zk2XbiX",
        "outputId": "c8655d75-c81c-42cf-8689-64fa6af1b91b"
      },
      "source": [
        "import io\n",
        "\n",
        "from google.colab import files\n",
        "uploaded = files.upload()\n",
        "df = pd.read_excel(io.BytesIO(uploaded['fake_new_dataset.xlsx']))\n",
        "\n",
        "df"
      ],
      "execution_count": null,
      "outputs": [
        {
          "output_type": "display_data",
          "data": {
            "text/html": [
              "\n",
              "     <input type=\"file\" id=\"files-4d1a7b97-9f8c-4556-905f-c142b54ee0bf\" name=\"files[]\" multiple disabled\n",
              "        style=\"border:none\" />\n",
              "     <output id=\"result-4d1a7b97-9f8c-4556-905f-c142b54ee0bf\">\n",
              "      Upload widget is only available when the cell has been executed in the\n",
              "      current browser session. Please rerun this cell to enable.\n",
              "      </output>\n",
              "      <script src=\"/nbextensions/google.colab/files.js\"></script> "
            ],
            "text/plain": [
              "<IPython.core.display.HTML object>"
            ]
          },
          "metadata": {}
        },
        {
          "output_type": "stream",
          "name": "stdout",
          "text": [
            "Saving fake_new_dataset.xlsx to fake_new_dataset.xlsx\n"
          ]
        },
        {
          "output_type": "execute_result",
          "data": {
            "text/html": [
              "<div>\n",
              "<style scoped>\n",
              "    .dataframe tbody tr th:only-of-type {\n",
              "        vertical-align: middle;\n",
              "    }\n",
              "\n",
              "    .dataframe tbody tr th {\n",
              "        vertical-align: top;\n",
              "    }\n",
              "\n",
              "    .dataframe thead th {\n",
              "        text-align: right;\n",
              "    }\n",
              "</style>\n",
              "<table border=\"1\" class=\"dataframe\">\n",
              "  <thead>\n",
              "    <tr style=\"text-align: right;\">\n",
              "      <th></th>\n",
              "      <th>Unnamed: 0</th>\n",
              "      <th>title</th>\n",
              "      <th>text</th>\n",
              "      <th>subcategory</th>\n",
              "      <th>label</th>\n",
              "    </tr>\n",
              "  </thead>\n",
              "  <tbody>\n",
              "    <tr>\n",
              "      <th>0</th>\n",
              "      <td>0</td>\n",
              "      <td>FACEBOOK DELETES MICHIGAN ANTI-LOCKDOWN GROUP ...</td>\n",
              "      <td>Facebook has shuttered a popular group for Mic...</td>\n",
              "      <td>false news</td>\n",
              "      <td>0</td>\n",
              "    </tr>\n",
              "    <tr>\n",
              "      <th>1</th>\n",
              "      <td>1</td>\n",
              "      <td>Other Viewpoints: COVID-19 is worse than the flu</td>\n",
              "      <td>We can now officially put to rest all comparis...</td>\n",
              "      <td>true</td>\n",
              "      <td>1</td>\n",
              "    </tr>\n",
              "    <tr>\n",
              "      <th>2</th>\n",
              "      <td>2</td>\n",
              "      <td>Bermuda's COVID-19 cases surpass 100</td>\n",
              "      <td>The Ministry of Health in Bermuda has confirme...</td>\n",
              "      <td>true</td>\n",
              "      <td>1</td>\n",
              "    </tr>\n",
              "    <tr>\n",
              "      <th>3</th>\n",
              "      <td>3</td>\n",
              "      <td>Purdue University says students face 'close to...</td>\n",
              "      <td>Purdue University President Mitch Daniels, the...</td>\n",
              "      <td>partially false</td>\n",
              "      <td>0</td>\n",
              "    </tr>\n",
              "    <tr>\n",
              "      <th>4</th>\n",
              "      <td>4</td>\n",
              "      <td>THE HIGH COST OF LOCKING DOWN AMERICA: “WE’VE ...</td>\n",
              "      <td>Locking down much of the country may have help...</td>\n",
              "      <td>false news</td>\n",
              "      <td>0</td>\n",
              "    </tr>\n",
              "    <tr>\n",
              "      <th>...</th>\n",
              "      <td>...</td>\n",
              "      <td>...</td>\n",
              "      <td>...</td>\n",
              "      <td>...</td>\n",
              "      <td>...</td>\n",
              "    </tr>\n",
              "    <tr>\n",
              "      <th>3114</th>\n",
              "      <td>2998</td>\n",
              "      <td>2019-nCoV: Health dept. on full alert</td>\n",
              "      <td>Quarantine advised for 80 persons across the S...</td>\n",
              "      <td>true</td>\n",
              "      <td>1</td>\n",
              "    </tr>\n",
              "    <tr>\n",
              "      <th>3115</th>\n",
              "      <td>2999</td>\n",
              "      <td>Screening machine for corona virus launched at...</td>\n",
              "      <td>South Sudan has begun screening all travelers ...</td>\n",
              "      <td>true</td>\n",
              "      <td>1</td>\n",
              "    </tr>\n",
              "    <tr>\n",
              "      <th>3116</th>\n",
              "      <td>3000</td>\n",
              "      <td>Coronavirus (2019-nCoV)</td>\n",
              "      <td>Coronavirus (2019-nCoV) is a new respiratory i...</td>\n",
              "      <td>true</td>\n",
              "      <td>1</td>\n",
              "    </tr>\n",
              "    <tr>\n",
              "      <th>3117</th>\n",
              "      <td>3001</td>\n",
              "      <td>Characterizing Patients Hospitalized With COVI...</td>\n",
              "      <td>Characterizing Patients Hospitalized With COVI...</td>\n",
              "      <td>false news</td>\n",
              "      <td>0</td>\n",
              "    </tr>\n",
              "    <tr>\n",
              "      <th>3118</th>\n",
              "      <td>3002</td>\n",
              "      <td>Corona Virus WARNING</td>\n",
              "      <td>Just something to be prepared for… but then it...</td>\n",
              "      <td>false news</td>\n",
              "      <td>0</td>\n",
              "    </tr>\n",
              "  </tbody>\n",
              "</table>\n",
              "<p>3119 rows × 5 columns</p>\n",
              "</div>"
            ],
            "text/plain": [
              "      Unnamed: 0  ... label\n",
              "0              0  ...     0\n",
              "1              1  ...     1\n",
              "2              2  ...     1\n",
              "3              3  ...     0\n",
              "4              4  ...     0\n",
              "...          ...  ...   ...\n",
              "3114        2998  ...     1\n",
              "3115        2999  ...     1\n",
              "3116        3000  ...     1\n",
              "3117        3001  ...     0\n",
              "3118        3002  ...     0\n",
              "\n",
              "[3119 rows x 5 columns]"
            ]
          },
          "metadata": {},
          "execution_count": 3
        }
      ]
    },
    {
      "cell_type": "code",
      "metadata": {
        "colab": {
          "base_uri": "https://localhost:8080/"
        },
        "id": "ZgHAn17BkgED",
        "outputId": "161ac2c0-f226-40e7-d502-8c2ca818a610"
      },
      "source": [
        "df.isna().sum() ## there is no need to remove null value for our dataset."
      ],
      "execution_count": null,
      "outputs": [
        {
          "output_type": "execute_result",
          "data": {
            "text/plain": [
              "Unnamed: 0     0\n",
              "title          1\n",
              "text           0\n",
              "subcategory    0\n",
              "label          0\n",
              "dtype: int64"
            ]
          },
          "metadata": {},
          "execution_count": 4
        }
      ]
    },
    {
      "cell_type": "code",
      "metadata": {
        "colab": {
          "base_uri": "https://localhost:8080/"
        },
        "id": "hk-vbIcMnMyq",
        "outputId": "64932622-b900-4b61-8f26-4be823ae4d5b"
      },
      "source": [
        "print(sum(df[\"label\"]==1))\n",
        "print(sum(df[\"label\"]==0)) ##imbalabced, and we decide to use all 0 label and half 1 label"
      ],
      "execution_count": null,
      "outputs": [
        {
          "output_type": "stream",
          "name": "stdout",
          "text": [
            "2061\n",
            "1058\n"
          ]
        }
      ]
    },
    {
      "cell_type": "code",
      "metadata": {
        "id": "KBERZ_FxcEO5",
        "colab": {
          "base_uri": "https://localhost:8080/"
        },
        "outputId": "830c0adf-2e4c-4273-b939-b9d95e6020c9"
      },
      "source": [
        "labels=df.label\n",
        "labels.head()  ## if the the news is real, the label is 1; if the news is fake or partially fake ,the lebel is 0"
      ],
      "execution_count": null,
      "outputs": [
        {
          "output_type": "execute_result",
          "data": {
            "text/plain": [
              "0    0\n",
              "1    1\n",
              "2    1\n",
              "3    0\n",
              "4    0\n",
              "Name: label, dtype: int64"
            ]
          },
          "metadata": {},
          "execution_count": 5
        }
      ]
    },
    {
      "cell_type": "code",
      "metadata": {
        "id": "AozDnnpWquh-"
      },
      "source": [
        "np.random.seed(500)\n"
      ],
      "execution_count": null,
      "outputs": []
    },
    {
      "cell_type": "code",
      "metadata": {
        "colab": {
          "base_uri": "https://localhost:8080/",
          "height": 418
        },
        "id": "8sSphj2JpNAW",
        "outputId": "6d8423a2-f4bc-4292-cc39-6dcb1a63d4d8"
      },
      "source": [
        "df[df['label']==0]"
      ],
      "execution_count": null,
      "outputs": [
        {
          "output_type": "execute_result",
          "data": {
            "text/html": [
              "<div>\n",
              "<style scoped>\n",
              "    .dataframe tbody tr th:only-of-type {\n",
              "        vertical-align: middle;\n",
              "    }\n",
              "\n",
              "    .dataframe tbody tr th {\n",
              "        vertical-align: top;\n",
              "    }\n",
              "\n",
              "    .dataframe thead th {\n",
              "        text-align: right;\n",
              "    }\n",
              "</style>\n",
              "<table border=\"1\" class=\"dataframe\">\n",
              "  <thead>\n",
              "    <tr style=\"text-align: right;\">\n",
              "      <th></th>\n",
              "      <th>Unnamed: 0</th>\n",
              "      <th>title</th>\n",
              "      <th>text</th>\n",
              "      <th>subcategory</th>\n",
              "      <th>label</th>\n",
              "    </tr>\n",
              "  </thead>\n",
              "  <tbody>\n",
              "    <tr>\n",
              "      <th>0</th>\n",
              "      <td>0</td>\n",
              "      <td>FACEBOOK DELETES MICHIGAN ANTI-LOCKDOWN GROUP ...</td>\n",
              "      <td>Facebook has shuttered a popular group for Mic...</td>\n",
              "      <td>false news</td>\n",
              "      <td>0</td>\n",
              "    </tr>\n",
              "    <tr>\n",
              "      <th>3</th>\n",
              "      <td>3</td>\n",
              "      <td>Purdue University says students face 'close to...</td>\n",
              "      <td>Purdue University President Mitch Daniels, the...</td>\n",
              "      <td>partially false</td>\n",
              "      <td>0</td>\n",
              "    </tr>\n",
              "    <tr>\n",
              "      <th>4</th>\n",
              "      <td>4</td>\n",
              "      <td>THE HIGH COST OF LOCKING DOWN AMERICA: “WE’VE ...</td>\n",
              "      <td>Locking down much of the country may have help...</td>\n",
              "      <td>false news</td>\n",
              "      <td>0</td>\n",
              "    </tr>\n",
              "    <tr>\n",
              "      <th>5</th>\n",
              "      <td>5</td>\n",
              "      <td>NY TIMES WORRIES HALF OF AMERICANS WILL REFUSE...</td>\n",
              "      <td>The New York Times has published an article by...</td>\n",
              "      <td>false news</td>\n",
              "      <td>0</td>\n",
              "    </tr>\n",
              "    <tr>\n",
              "      <th>7</th>\n",
              "      <td>7</td>\n",
              "      <td>CDC adds 6 new possible symptoms of Covid-19</td>\n",
              "      <td>When the coronavirus outbreak began, the Cente...</td>\n",
              "      <td>false news</td>\n",
              "      <td>0</td>\n",
              "    </tr>\n",
              "    <tr>\n",
              "      <th>...</th>\n",
              "      <td>...</td>\n",
              "      <td>...</td>\n",
              "      <td>...</td>\n",
              "      <td>...</td>\n",
              "      <td>...</td>\n",
              "    </tr>\n",
              "    <tr>\n",
              "      <th>3103</th>\n",
              "      <td>2987</td>\n",
              "      <td>Twinbrook ‘pausing’ COVID-19 plan after criticism</td>\n",
              "      <td>Apr 24, 2020 at 4:31 PM Nursing home faced bac...</td>\n",
              "      <td>false news</td>\n",
              "      <td>0</td>\n",
              "    </tr>\n",
              "    <tr>\n",
              "      <th>3109</th>\n",
              "      <td>2993</td>\n",
              "      <td>Experts suggest ventilation, not isolation is ...</td>\n",
              "      <td>The Coronavirus epidemic for the first time re...</td>\n",
              "      <td>false news</td>\n",
              "      <td>0</td>\n",
              "    </tr>\n",
              "    <tr>\n",
              "      <th>3110</th>\n",
              "      <td>2994</td>\n",
              "      <td>Corona virus and pentagon Quarantine help? Com...</td>\n",
              "      <td>Here is the technique we use to heal unseen ne...</td>\n",
              "      <td>false news</td>\n",
              "      <td>0</td>\n",
              "    </tr>\n",
              "    <tr>\n",
              "      <th>3117</th>\n",
              "      <td>3001</td>\n",
              "      <td>Characterizing Patients Hospitalized With COVI...</td>\n",
              "      <td>Characterizing Patients Hospitalized With COVI...</td>\n",
              "      <td>false news</td>\n",
              "      <td>0</td>\n",
              "    </tr>\n",
              "    <tr>\n",
              "      <th>3118</th>\n",
              "      <td>3002</td>\n",
              "      <td>Corona Virus WARNING</td>\n",
              "      <td>Just something to be prepared for… but then it...</td>\n",
              "      <td>false news</td>\n",
              "      <td>0</td>\n",
              "    </tr>\n",
              "  </tbody>\n",
              "</table>\n",
              "<p>1058 rows × 5 columns</p>\n",
              "</div>"
            ],
            "text/plain": [
              "      Unnamed: 0  ... label\n",
              "0              0  ...     0\n",
              "3              3  ...     0\n",
              "4              4  ...     0\n",
              "5              5  ...     0\n",
              "7              7  ...     0\n",
              "...          ...  ...   ...\n",
              "3103        2987  ...     0\n",
              "3109        2993  ...     0\n",
              "3110        2994  ...     0\n",
              "3117        3001  ...     0\n",
              "3118        3002  ...     0\n",
              "\n",
              "[1058 rows x 5 columns]"
            ]
          },
          "metadata": {},
          "execution_count": 24
        }
      ]
    },
    {
      "cell_type": "code",
      "metadata": {
        "colab": {
          "base_uri": "https://localhost:8080/",
          "height": 418
        },
        "id": "Tz7o7nV8nnwT",
        "outputId": "f4b8070d-0394-45cd-9758-abe7d5632805"
      },
      "source": [
        "## solve the problem of imbalance\n",
        "df_new = pd.DataFrame()\n",
        "df_new['title']=\"\"\n",
        "df_new['text']=\"\"\n",
        "df_new['subcategory']=\"\"\n",
        "df_new['label']=0\n",
        "\n",
        "label1_new=df[df['label']==1].sample(n=1060,random_state=2)\n",
        "label1_new = label1_new.iloc[:,1:]\n",
        "\n",
        "label0_new=df[df['label']==0]\n",
        "label0_new = label0_new.iloc[:,1:]\n",
        "\n",
        "df_new = df_new.append(label1_new)\n",
        "df_new = df_new.append(label0_new)\n",
        "\n",
        "## this is the new dataset which is not imbalanced\n",
        "\n",
        "df_new.reset_index(drop=True, inplace=True)\n",
        "df_new"
      ],
      "execution_count": null,
      "outputs": [
        {
          "output_type": "execute_result",
          "data": {
            "text/html": [
              "<div>\n",
              "<style scoped>\n",
              "    .dataframe tbody tr th:only-of-type {\n",
              "        vertical-align: middle;\n",
              "    }\n",
              "\n",
              "    .dataframe tbody tr th {\n",
              "        vertical-align: top;\n",
              "    }\n",
              "\n",
              "    .dataframe thead th {\n",
              "        text-align: right;\n",
              "    }\n",
              "</style>\n",
              "<table border=\"1\" class=\"dataframe\">\n",
              "  <thead>\n",
              "    <tr style=\"text-align: right;\">\n",
              "      <th></th>\n",
              "      <th>title</th>\n",
              "      <th>text</th>\n",
              "      <th>subcategory</th>\n",
              "      <th>label</th>\n",
              "    </tr>\n",
              "  </thead>\n",
              "  <tbody>\n",
              "    <tr>\n",
              "      <th>0</th>\n",
              "      <td>Formula 1 Consider Changing the Chinese GP Sch...</td>\n",
              "      <td>Home Sports Formula 1 Consider Changing the Ch...</td>\n",
              "      <td>true</td>\n",
              "      <td>1</td>\n",
              "    </tr>\n",
              "    <tr>\n",
              "      <th>1</th>\n",
              "      <td>Belarus' Healthcare Ministry: Over 120 people ...</td>\n",
              "      <td>The National Research Center for Epidemiology ...</td>\n",
              "      <td>true</td>\n",
              "      <td>1</td>\n",
              "    </tr>\n",
              "    <tr>\n",
              "      <th>2</th>\n",
              "      <td>Mumtaz Ali calls for raising awareness about N...</td>\n",
              "      <td>Health Ministry Focal person , Dr Mumtaz Ali K...</td>\n",
              "      <td>true</td>\n",
              "      <td>1</td>\n",
              "    </tr>\n",
              "    <tr>\n",
              "      <th>3</th>\n",
              "      <td>The Definitive Guide to corona virus ped</td>\n",
              "      <td>A coronavirus is actually a kind of common vir...</td>\n",
              "      <td>true</td>\n",
              "      <td>1</td>\n",
              "    </tr>\n",
              "    <tr>\n",
              "      <th>4</th>\n",
              "      <td>In the middle of the corona epidemic: Nurses w...</td>\n",
              "      <td>A nurse in Wuhan forced to marry fiancé via vi...</td>\n",
              "      <td>true</td>\n",
              "      <td>1</td>\n",
              "    </tr>\n",
              "    <tr>\n",
              "      <th>...</th>\n",
              "      <td>...</td>\n",
              "      <td>...</td>\n",
              "      <td>...</td>\n",
              "      <td>...</td>\n",
              "    </tr>\n",
              "    <tr>\n",
              "      <th>2113</th>\n",
              "      <td>Twinbrook ‘pausing’ COVID-19 plan after criticism</td>\n",
              "      <td>Apr 24, 2020 at 4:31 PM Nursing home faced bac...</td>\n",
              "      <td>false news</td>\n",
              "      <td>0</td>\n",
              "    </tr>\n",
              "    <tr>\n",
              "      <th>2114</th>\n",
              "      <td>Experts suggest ventilation, not isolation is ...</td>\n",
              "      <td>The Coronavirus epidemic for the first time re...</td>\n",
              "      <td>false news</td>\n",
              "      <td>0</td>\n",
              "    </tr>\n",
              "    <tr>\n",
              "      <th>2115</th>\n",
              "      <td>Corona virus and pentagon Quarantine help? Com...</td>\n",
              "      <td>Here is the technique we use to heal unseen ne...</td>\n",
              "      <td>false news</td>\n",
              "      <td>0</td>\n",
              "    </tr>\n",
              "    <tr>\n",
              "      <th>2116</th>\n",
              "      <td>Characterizing Patients Hospitalized With COVI...</td>\n",
              "      <td>Characterizing Patients Hospitalized With COVI...</td>\n",
              "      <td>false news</td>\n",
              "      <td>0</td>\n",
              "    </tr>\n",
              "    <tr>\n",
              "      <th>2117</th>\n",
              "      <td>Corona Virus WARNING</td>\n",
              "      <td>Just something to be prepared for… but then it...</td>\n",
              "      <td>false news</td>\n",
              "      <td>0</td>\n",
              "    </tr>\n",
              "  </tbody>\n",
              "</table>\n",
              "<p>2118 rows × 4 columns</p>\n",
              "</div>"
            ],
            "text/plain": [
              "                                                  title  ... label\n",
              "0     Formula 1 Consider Changing the Chinese GP Sch...  ...     1\n",
              "1     Belarus' Healthcare Ministry: Over 120 people ...  ...     1\n",
              "2     Mumtaz Ali calls for raising awareness about N...  ...     1\n",
              "3              The Definitive Guide to corona virus ped  ...     1\n",
              "4     In the middle of the corona epidemic: Nurses w...  ...     1\n",
              "...                                                 ...  ...   ...\n",
              "2113  Twinbrook ‘pausing’ COVID-19 plan after criticism  ...     0\n",
              "2114  Experts suggest ventilation, not isolation is ...  ...     0\n",
              "2115  Corona virus and pentagon Quarantine help? Com...  ...     0\n",
              "2116  Characterizing Patients Hospitalized With COVI...  ...     0\n",
              "2117                               Corona Virus WARNING  ...     0\n",
              "\n",
              "[2118 rows x 4 columns]"
            ]
          },
          "metadata": {},
          "execution_count": 47
        }
      ]
    },
    {
      "cell_type": "code",
      "metadata": {
        "id": "4jNfunOtcERP"
      },
      "source": [
        "# split the train and test dataset\n",
        "x_train,x_test,y_train,y_test=train_test_split(df_new['text'], df_new['label'], test_size=0.3, random_state=17)"
      ],
      "execution_count": null,
      "outputs": []
    },
    {
      "cell_type": "code",
      "metadata": {
        "id": "7ZSb6Mp_cETp"
      },
      "source": [
        "## tf-idf vectorize , tokenizer??\n",
        "\n",
        "from sklearn.feature_extraction.text import TfidfVectorizer\n",
        "\n",
        "tfidf_vectorizer=TfidfVectorizer(stop_words='english', max_df=0.7)\n",
        "\n",
        "tfidf_train=tfidf_vectorizer.fit_transform(x_train) \n",
        "tfidf_test=tfidf_vectorizer.transform(x_test)\n"
      ],
      "execution_count": null,
      "outputs": []
    },
    {
      "cell_type": "markdown",
      "metadata": {
        "id": "Bvrs4WzrveN1"
      },
      "source": [
        "#Passive Agressive Classifier"
      ]
    },
    {
      "cell_type": "code",
      "metadata": {
        "id": "7tLjlEAhcEVr",
        "colab": {
          "base_uri": "https://localhost:8080/"
        },
        "outputId": "ff6a3fd7-cd26-45f4-af1a-a29c0f8becc9"
      },
      "source": [
        "## initialize passive aggressive classifier\n",
        "from sklearn.linear_model import PassiveAggressiveClassifier\n",
        "\n",
        "pac=PassiveAggressiveClassifier(max_iter=50)\n",
        "pac.fit(tfidf_train,y_train)\n",
        "\n",
        "y_pred_pac=pac.predict(tfidf_test)\n",
        "\n",
        "# confusion matrix\n",
        "from sklearn.metrics import accuracy_score, confusion_matrix\n",
        "\n",
        "print(confusion_matrix(np.array(y_test),y_pred_pac, labels=[0,1]))\n",
        "\n",
        "print('accuracy of PAC = ', round((233+239)/636,3))  ## the accuracy is 0.742\n"
      ],
      "execution_count": null,
      "outputs": [
        {
          "output_type": "stream",
          "name": "stdout",
          "text": [
            "[[215 101]\n",
            " [ 64 256]]\n",
            "accuracy of PAC =  0.742\n"
          ]
        }
      ]
    },
    {
      "cell_type": "markdown",
      "metadata": {
        "id": "wtn1o2ABvjwn"
      },
      "source": [
        "#Logistic Regression"
      ]
    },
    {
      "cell_type": "code",
      "metadata": {
        "id": "HRVNroIgfs8H",
        "colab": {
          "base_uri": "https://localhost:8080/"
        },
        "outputId": "6c895871-c3f3-4361-fd8a-41935168f672"
      },
      "source": [
        "# Logistics regression\n",
        "from sklearn.linear_model import LogisticRegression\n",
        "\n",
        "logit = LogisticRegression(C=5e1, solver='lbfgs', multi_class='multinomial', random_state=17, n_jobs=4)\n",
        "logit.fit(tfidf_train, y_train)\n",
        "\n",
        "y_pred_LR = logit.predict(tfidf_test)\n",
        "\n",
        "#confusion matrix\n",
        "\n",
        "print(confusion_matrix(np.array(y_test),y_pred_LR, labels=[0,1]))\n",
        "\n",
        "print(\"Accuracy of LR = \", round((240+250)/636,3))\n",
        "# The accuracy of LR is 0.77"
      ],
      "execution_count": null,
      "outputs": [
        {
          "output_type": "stream",
          "name": "stdout",
          "text": [
            "[[240  76]\n",
            " [ 70 250]]\n",
            "Accuracy of LR =  0.77\n"
          ]
        }
      ]
    },
    {
      "cell_type": "markdown",
      "metadata": {
        "id": "LEbainrXvont"
      },
      "source": [
        "#SVM (Support Vector Machine)"
      ]
    },
    {
      "cell_type": "code",
      "metadata": {
        "colab": {
          "base_uri": "https://localhost:8080/"
        },
        "id": "hXFXeNy0pqVU",
        "outputId": "666b8904-db8c-40f9-850a-cbd795baba49"
      },
      "source": [
        "# SVM - support vector machine\n",
        "from sklearn import model_selection, naive_bayes, svm\n",
        "from sklearn.svm import SVC\n",
        "\n",
        "SVM = svm.SVC(C=1.0, kernel='linear', degree=3, gamma='auto')\n",
        "SVM.fit(tfidf_train, y_train)\n",
        "\n",
        "y_pred_SVM = SVM.predict(tfidf_test)\n",
        "\n",
        "#confusion matrix\n",
        "print(confusion_matrix(np.array(y_test),y_pred_SVM, labels=[0,1]))\n",
        "\n",
        "print(\"Accuracy of SVM = \", round((236+261)/636,3))\n",
        "# The accuracy of SVM is 0.781\n",
        "\n",
        "print(\"SVM Accuracy Score -> \",accuracy_score(y_pred_SVM, y_test))\n"
      ],
      "execution_count": null,
      "outputs": [
        {
          "output_type": "stream",
          "name": "stdout",
          "text": [
            "[[236  80]\n",
            " [ 59 261]]\n",
            "Accuracy of SVM =  0.781\n",
            "SVM Accuracy Score ->  0.7814465408805031\n"
          ]
        }
      ]
    },
    {
      "cell_type": "markdown",
      "metadata": {
        "id": "di9ni2JSvsxD"
      },
      "source": [
        "#Naive Baye's"
      ]
    },
    {
      "cell_type": "code",
      "metadata": {
        "colab": {
          "base_uri": "https://localhost:8080/"
        },
        "id": "Qvkep2RHp4X2",
        "outputId": "34371209-b3bc-445a-8164-ab557d70dc21"
      },
      "source": [
        "# Naive Baye \n",
        "Naive = naive_bayes.MultinomialNB()\n",
        "Naive.fit(tfidf_train, y_train)\n",
        "\n",
        "y_pred_NB = Naive.predict(tfidf_test)\n",
        "\n",
        "#confusion matrix\n",
        "print(confusion_matrix(np.array(y_test),y_pred_NB, labels=[0,1]))\n",
        "\n",
        "print(\"Accuracy of NB = \", round((194+286)/636,3))\n",
        "# The accuracy of NB is 0.755\n",
        "\n",
        "print(\"Naive Bayes Accuracy Score -> \",accuracy_score(y_pred_NB, y_test))"
      ],
      "execution_count": null,
      "outputs": [
        {
          "output_type": "stream",
          "name": "stdout",
          "text": [
            "[[194 122]\n",
            " [ 34 286]]\n",
            "Accuracy of NB =  0.755\n",
            "Naive Bayes Accuracy Score ->  0.7547169811320755\n"
          ]
        }
      ]
    },
    {
      "cell_type": "markdown",
      "metadata": {
        "id": "Hmp51Eg9vv0a"
      },
      "source": [
        "#KNN (K-Nearest Neighbor)"
      ]
    },
    {
      "cell_type": "code",
      "metadata": {
        "id": "RHc8T88xp-TH",
        "colab": {
          "base_uri": "https://localhost:8080/",
          "height": 53
        },
        "outputId": "0019e7e8-e759-4d08-b9a0-00f257b2ad54"
      },
      "source": [
        "# KNN\n",
        "'''\n",
        "from sklearn.neighbors import KNeighborsRegressor\n",
        "\n",
        "knn = KNeighborsRegressor(n_neighbors=3)\n",
        "knn.fit(tfidf_train)\n",
        "\n",
        "y_pred_knn = knn.predict(tfidf_test)\n",
        "\n",
        "#confusion matrix\n",
        "print(confusion_matrix(np.array(y_test),y_pred_knn, labels=[0,1]))\n",
        "\n",
        "print(\"Accuracy of KNN = \", round((20+629)/936,3))\n",
        "# The accuracy of KNN is 0.\n",
        "\n",
        "print(\"KNN Accuracy Score -> \",accuracy_score(y_pred_knn, y_test))\n",
        "'''"
      ],
      "execution_count": null,
      "outputs": [
        {
          "output_type": "execute_result",
          "data": {
            "application/vnd.google.colaboratory.intrinsic+json": {
              "type": "string"
            },
            "text/plain": [
              "'\\nfrom sklearn.neighbors import KNeighborsRegressor\\n\\nknn = KNeighborsRegressor(n_neighbors=3)\\nknn.fit(tfidf_train)\\n\\ny_pred_knn = knn.predict(tfidf_test)\\n\\n#confusion matrix\\nprint(confusion_matrix(np.array(y_test),y_pred_knn, labels=[0,1]))\\n\\nprint(\"Accuracy of KNN = \", round((20+629)/936,3))\\n# The accuracy of KNN is 0.\\n\\nprint(\"KNN Accuracy Score -> \",accuracy_score(y_pred_knn, y_test))\\n'"
            ]
          },
          "metadata": {},
          "execution_count": 14
        }
      ]
    },
    {
      "cell_type": "code",
      "metadata": {
        "id": "hS_lVDQnsRUy"
      },
      "source": [
        "## Let's consider why true positive (real =1, pred =1) case for some technique like Naive Baye's Classifier is less.\n"
      ],
      "execution_count": null,
      "outputs": []
    }
  ]
}